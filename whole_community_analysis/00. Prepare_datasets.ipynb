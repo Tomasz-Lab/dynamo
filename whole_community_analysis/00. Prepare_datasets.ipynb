{
 "cells": [
  {
   "cell_type": "markdown",
   "id": "0f8152f2-6685-404c-81f3-8354f5a1690a",
   "metadata": {},
   "source": [
    "# PREPARE DATASETS FOR DOWNSTREAM ANALYSES\n",
    "\n",
    "This Jupyter Notebook contains main functions to prepare gut microbiome time series data for downstream analyses.\n",
    "1. Interpolate data using PCHIP interpolation function\n",
    "2. Rarefy interpolated data to chosen treshold\n",
    "3. Re-interpolate timepoints that got removed during the rarefaction step\n",
    "\n",
    "#### Reguirements\n",
    "\n",
    "We recommend running this conde inside a conda environment with qiime2 package installed"
   ]
  },
  {
   "cell_type": "code",
   "execution_count": null,
   "id": "3eb7b6e5-a1d8-4d46-a204-5ccc0ca633a8",
   "metadata": {},
   "outputs": [],
   "source": [
    "import pandas as pd\n",
    "import seaborn as sns\n",
    "import matplotlib.pyplot as plt\n",
    "import numpy as np\n",
    "from scipy.interpolate import pchip_interpolate\n",
    "import qiime2\n",
    "from qiime2 import Metadata\n",
    "from qiime2.plugins.feature_table.methods import rarefy\n",
    "from qiime2.plugins.diversity.visualizers import alpha_rarefaction\n",
    "from biom.table import Table"
   ]
  },
  {
   "cell_type": "markdown",
   "id": "6e32bfb5-7492-435f-8fea-638f08358b6a",
   "metadata": {},
   "source": [
    "### Read dataframes"
   ]
  },
  {
   "cell_type": "code",
   "execution_count": null,
   "id": "adc0d213-84e8-4744-87fc-a3c4dce7e2c5",
   "metadata": {},
   "outputs": [],
   "source": [
    "wd =  './dynamo/data/'\n",
    "\n",
    "# male\n",
    "male_df = pd.read_csv(wd + 'raw_files/male_assigned_sample_names.csv', \n",
    "                      index_col = [0]).sort_index()\n",
    "# female\n",
    "female_df = pd.read_csv(wd + 'raw_files/female_assigned_sample_names.csv', \n",
    "                        index_col = [0]).sort_index()\n",
    "# donorA\n",
    "donorA_df = pd.read_csv(wd + 'raw_files/donorA_assigned_sample_names.csv', \n",
    "                        index_col = [0]).iloc[:-1].sort_index() #remove last row as is Nan\n",
    "donorA_df.index = donorA_df.index.astype(int) \n",
    "donorA_df = donorA_df[~donorA_df.index.duplicated(keep=False)]\n",
    "\n",
    "# donorB\n",
    "donorB_df = pd.read_csv(wd + 'raw_files/donorB_assigned_sample_names.csv', \n",
    "                        index_col = [0]).iloc[:-1].sort_index() #remove last observation as is the gape is too big t be interpolated\n",
    "donorB_df.index = donorB_df.index.astype(int)\n",
    "donorB_df = donorB_df[~donorB_df.index.duplicated(keep=False)]"
   ]
  },
  {
   "cell_type": "code",
   "execution_count": null,
   "id": "7d513edf-755f-4d73-af5f-9d419a61db07",
   "metadata": {},
   "outputs": [],
   "source": [
    "def plot_missing_timepoints(data):\n",
    "    \n",
    "    data_idx = data.index\n",
    "    df = pd.DataFrame([i for i in range(data_idx.max())], columns = ['day'])\n",
    "    df['missing'] = np.where(df['day'].isin(data_idx), 0, 1)\n",
    "    df['value'] = 1\n",
    "\n",
    "    return df"
   ]
  },
  {
   "cell_type": "code",
   "execution_count": null,
   "id": "f2338e5e-a915-45c7-abf3-81bf7b505911",
   "metadata": {},
   "outputs": [],
   "source": [
    "male_missing = plot_missing_timepoints(male_df)\n",
    "female_missing = plot_missing_timepoints(female_df)\n",
    "donorA_missing = plot_missing_timepoints(donorA_df)\n",
    "donorB_missing = plot_missing_timepoints(donorB_df)"
   ]
  },
  {
   "cell_type": "code",
   "execution_count": null,
   "id": "a1d94164-a2e8-4d47-b1a6-577856fe445a",
   "metadata": {},
   "outputs": [],
   "source": [
    "fig, axes = plt.subplots(4, 1, figsize = (15, 10))\n",
    "\n",
    "sns.scatterplot(data = male_missing, x = 'day', y = 'value', hue = 'missing', palette = {0:'lightblue', 1:'red'}, edgecolor = None, s=20, marker='s', ax=axes[0])\n",
    "sns.scatterplot(data = female_missing, x = 'day', y = 'value', hue = 'missing', palette = {0:'lightblue', 1:'red'}, edgecolor = None, s=20, marker='s', ax=axes[1], legend=False)\n",
    "sns.scatterplot(data = donorA_missing, x = 'day', y = 'value', hue = 'missing', palette = {0:'lightblue', 1:'red'}, edgecolor = None, s=20, marker='s', ax=axes[2], legend=False)\n",
    "sns.scatterplot(data = donorB_missing, x = 'day', y = 'value', hue = 'missing', palette = {0:'lightblue', 1:'red'}, edgecolor = None, s=20, marker='s', ax=axes[3], legend=False)\n",
    "\n",
    "axes[0].legend(edgecolor = 'white',ncol=3, fontsize=14)\n",
    "\n",
    "for i in range(4):\n",
    "    axes[i].axes.yaxis.set_ticklabels([])\n",
    "    axes[i].set_ylabel(None)\n",
    "    axes[i].tick_params(axis='x', labelsize=14)\n",
    "\n",
    "    if i == 3:\n",
    "        axes[i].set_xlabel('\\n time point [days]', size=16)\n",
    "    else:\n",
    "        axes[i].set_xlabel(None)\n",
    "        \n",
    "plt.tight_layout()\n",
    "#plt.savefig('/Users/zkarwowska/Desktop/dynamo/missing_timepoints.png', dpi=300)"
   ]
  },
  {
   "cell_type": "markdown",
   "id": "94f43f0d-ac3f-4ae6-9086-c948397b73a0",
   "metadata": {},
   "source": [
    "### Interpolate data using PCHIP"
   ]
  },
  {
   "cell_type": "code",
   "execution_count": 5,
   "id": "578a5396-8a19-4886-aa07-76a7230bf08a",
   "metadata": {},
   "outputs": [],
   "source": [
    "def prepare_data_for_interpolation(df):\n",
    "        \n",
    "    start_df = df.iloc[0].name\n",
    "    end_df = df.iloc[-1].name\n",
    "\n",
    "    full = list(range(start_df, end_df)) \n",
    "    missing_tpoints = list(set(full) - set(df.index.astype(int)))\n",
    "    missing_df = df.reindex(df.index.union(missing_tpoints))\n",
    "\n",
    "    return missing_df\n",
    "    \n",
    "def pchip_interpolation(col, masked_df):\n",
    "    \n",
    "    df_interpolated = pd.DataFrame(index = masked_df.index)\n",
    "\n",
    "    tmp = masked_df[col]\n",
    "    base_nodes =  tmp.dropna().index \n",
    "    interpolated_nodes = tmp[tmp.isna()].index \n",
    "\n",
    "    y = pchip_interpolate(base_nodes,\n",
    "                          tmp.dropna().values,\n",
    "                          interpolated_nodes)\n",
    "\n",
    "    name = str(col)\n",
    "    df_interpolated.loc[base_nodes, name] = tmp.dropna().values\n",
    "    df_interpolated.loc[interpolated_nodes, name] = y\n",
    "\n",
    "    return df_interpolated\n",
    "\n",
    "def apply_interpolation(df, interpolation_function):\n",
    "\n",
    "    INTERPOLATED_COLUMNS = []\n",
    "    for col in df.columns:\n",
    "        interpolated_col = interpolation_function(col, df)\n",
    "        INTERPOLATED_COLUMNS.append(interpolated_col)\n",
    "    INTERPOLATED_DF = pd.concat(INTERPOLATED_COLUMNS, axis=1)\n",
    "\n",
    "    return INTERPOLATED_DF\n",
    "    \n",
    "def interpolate_pchip(df, path, subject):\n",
    "\n",
    "    df = prepare_data_for_interpolation(df)\n",
    "    df_interpolated = apply_interpolation(df, pchip_interpolation)\n",
    "    df_interpolated = df_interpolated.astype(int).T\n",
    "    df_interpolated.to_csv(path + f'{subject}_interpolated.tsv', sep = '\\t')     \n",
    "    \n",
    "    return df_interpolated"
   ]
  },
  {
   "cell_type": "code",
   "execution_count": 6,
   "id": "4fb83d98-e3b2-4fa4-9627-a1ead7fd6e4d",
   "metadata": {},
   "outputs": [],
   "source": [
    "path = wd + 'first_interpolation_files/'\n",
    "male_interpolated_df = interpolate_pchip(male_df, path, 'male')\n",
    "female_interpolated_df = interpolate_pchip(female_df, path,  'female')\n",
    "donorA_interpolated_df = interpolate_pchip(donorA_df, path, 'donorA')\n",
    "donorB_interpolated_df = interpolate_pchip(donorB_df, path, 'donorB')"
   ]
  },
  {
   "cell_type": "markdown",
   "id": "593b7045-b29e-4071-8b0d-466a503bef72",
   "metadata": {},
   "source": [
    "### Change tsv to biom format"
   ]
  },
  {
   "cell_type": "raw",
   "id": "5cfc9410-23ef-4bdc-b234-12684cd304c0",
   "metadata": {},
   "source": [
    "#I run this in terminal as I am having troubles importing Table object to Qiime2 Artifact\n",
    "\n",
    "biom convert -i first_interpolation_files/male_pchip_interpolated.tsv -o biom_files/male_interpolated.biom --table-type='OTU table' --to-hdf5\n",
    "biom convert -i first_interpolation_files/female_pchip_interpolated.tsv -o biom_files/female_interpolated.biom --table-type='OTU table' --to-hdf5\n",
    "biom convert -i first_interpolation_files/donorA_pchip_interpolated.tsv -o biom_files/donorA_interpolated.biom --table-type='OTU table' --to-hdf5\n",
    "biom convert -i first_interpolation_files/donorB_pchip_interpolated.tsv -o biom_files/donorB_interpolated.biom --table-type='OTU table' --to-hdf5"
   ]
  },
  {
   "cell_type": "markdown",
   "id": "2b2e669d-1088-4a51-bfe5-36ac85070b81",
   "metadata": {},
   "source": [
    "### Rarefy"
   ]
  },
  {
   "cell_type": "code",
   "execution_count": 7,
   "id": "cc2c347e-e16e-473b-acc5-adc82be561c9",
   "metadata": {},
   "outputs": [],
   "source": [
    "def get_rarefaction_curves(df, biom_file, subject):\n",
    "    \n",
    "    metadata = pd.DataFrame(df.columns, columns = ['#SampleID'])\n",
    "    metadata['#SampleID'] = metadata['#SampleID'].astype(str)\n",
    "    metadata = metadata.set_index(['#SampleID'])\n",
    "    metadata['subject'] = subject\n",
    "\n",
    "    male_meatdata = Metadata(metadata)\n",
    "\n",
    "    unrarefied_table = qiime2.Artifact.import_data(\"FeatureTable[Frequency]\", biom_file)\n",
    "    vis = alpha_rarefaction(table = unrarefied_table, max_depth=25000, metadata = male_meatdata)\n",
    "    \n",
    "    vis.visualization.save(wd + f'rarefaction_curves/{subject}.qzv')"
   ]
  },
  {
   "cell_type": "code",
   "execution_count": 8,
   "id": "5b475f74-7df8-4e30-8a95-7f011624332d",
   "metadata": {},
   "outputs": [],
   "source": [
    "male_biom_file = wd + 'biom_files/male_pchip_interpolated.biom'\n",
    "female_biom_file = wd + 'biom_files/female_pchip_interpolated.biom'\n",
    "donorA_biom_file = wd + 'biom_files/donorA_pchip_interpolated.biom'\n",
    "donorB_biom_file = wd + 'biom_files/donorB_pchip_interpolated.biom'\n",
    "\n",
    "get_rarefaction_curves(male_interpolated_df, male_biom_file, 'male')\n",
    "get_rarefaction_curves(female_interpolated_df, female_biom_file, 'female')\n",
    "get_rarefaction_curves(donorA_interpolated_df, donorA_biom_file, 'donorA')\n",
    "get_rarefaction_curves(donorB_interpolated_df, donorB_biom_file, 'donorB')"
   ]
  },
  {
   "cell_type": "code",
   "execution_count": 6,
   "id": "539b396f-9217-4443-af04-6bbfcaa9b2cf",
   "metadata": {},
   "outputs": [],
   "source": [
    "def rarefy_table(biom_file):\n",
    "    \n",
    "    '''\n",
    "    biom_file: path to biom file \n",
    "    '''\n",
    "    \n",
    "    unrarefied_table = qiime2.Artifact.import_data(\"FeatureTable[Frequency]\", biom_file)\n",
    "    #rarefy\n",
    "    rarefy_result = rarefy(table=unrarefied_table, sampling_depth=18000)\n",
    "    rarefied_table = rarefy_result.rarefied_table\n",
    "    rarefied_table_df = rarefied_table.view(pd.DataFrame)\n",
    "    rarefied_table_df.index = rarefied_table_df.index.astype(int)\n",
    "    return rarefied_table_df"
   ]
  },
  {
   "cell_type": "code",
   "execution_count": null,
   "id": "ddb8e177-2dab-45ea-85ef-d4e32eaac1df",
   "metadata": {},
   "outputs": [],
   "source": [
    "male_rarefied_df = rarefy_table(male_biom_file)\n",
    "female_rarefied_df = rarefy_table(female_biom_file)\n",
    "donorA_rarefied_df = rarefy_table(donorA_biom_file)\n",
    "donorB_rarefied_df = rarefy_table(donorB_biom_file)"
   ]
  },
  {
   "cell_type": "markdown",
   "id": "e8d5cb08-644f-4d9e-b181-c554f7ee8c7e",
   "metadata": {},
   "source": [
    "### interpolate after rarefaction"
   ]
  },
  {
   "cell_type": "code",
   "execution_count": null,
   "id": "07436ae3-fb18-4cc3-9046-f1ea19e62c05",
   "metadata": {},
   "outputs": [],
   "source": [
    "def re_interpolate_pchip(df):\n",
    "    \n",
    "    '''\n",
    "    df: rarefied dataframe\n",
    "    '''\n",
    "\n",
    "    df = prepare_data_for_interpolation(df)\n",
    "    df_interpolated = apply_interpolation(df, pchip_interpolation)\n",
    "    df_interpolated = df_interpolated.astype(int)\n",
    "    \n",
    "    return df_interpolated\n",
    "\n",
    "reinterpolated_male_rarefied_df = re_interpolate_pchip(male_rarefied_df)\n",
    "reinterpolated_female_rarefied_df = re_interpolate_pchip(female_rarefied_df)\n",
    "reinterpolated_donorA_rarefied_df = re_interpolate_pchip(donorA_rarefied_df)\n",
    "reinterpolated_donorB_rarefied_df = re_interpolate_pchip(donorB_rarefied_df)"
   ]
  },
  {
   "cell_type": "markdown",
   "id": "4aa8dc22-a64b-4efb-ac60-d3c2f841e86c",
   "metadata": {},
   "source": [
    "### save as tsv and then change to biom format for further analyses"
   ]
  },
  {
   "cell_type": "code",
   "execution_count": null,
   "id": "a6c10847-2825-4fc5-9f97-e132459dd93b",
   "metadata": {},
   "outputs": [],
   "source": [
    "def to_csv(df, path, subject):\n",
    "    df.T.to_csv(path + f'{subject}_rarefied_18000_interpolated_pchip.tsv', sep = '\\t')"
   ]
  },
  {
   "cell_type": "code",
   "execution_count": null,
   "id": "e11ddc8b-6439-43ed-bc25-3a98bc05ee5e",
   "metadata": {},
   "outputs": [],
   "source": [
    "path = wd + 'ready_files/'\n",
    "to_csv(reinterpolated_male_rarefied_df, path, 'male')\n",
    "to_csv(reinterpolated_female_rarefied_df, path, 'female')\n",
    "to_csv(reinterpolated_donorA_rarefied_df, path, 'donorA')\n",
    "to_csv(reinterpolated_donorB_rarefied_df, path, 'donorB')"
   ]
  },
  {
   "cell_type": "raw",
   "id": "0aeec012-2e99-4434-aaf7-6483992fa339",
   "metadata": {},
   "source": [
    "#I run this in terminal as I am having troubles importing Table object to Qiime2 Artifact\n",
    "\n",
    "biom convert -i ready_files/male_rarefied_18000_interpolated_pchip.tsv -o biom_files/male_rarefied_18000_interpolated_pchip.biom --table-type='OTU table' --to-hdf5\n",
    "biom convert -i ready_files/female_rarefied_18000_interpolated_pchip.tsv -o biom_files/female_rarefied_18000_interpolated_pchip.biom --table-type='OTU table' --to-hdf5\n",
    "biom convert -i ready_files/donorA_rarefied_18000_interpolated_pchip.tsv -o biom_files/donorA_rarefied_18000_interpolated_pchip.biom --table-type='OTU table' --to-hdf5\n",
    "biom convert -i ready_files/donorB_rarefied_18000_interpolated_pchip.tsv -o biom_files/donorB_rarefied_18000_interpolated_pchip.biom --table-type='OTU table' --to-hdf5"
   ]
  }
 ],
 "metadata": {
  "kernelspec": {
   "display_name": "qiime_env",
   "language": "python",
   "name": "qiime_env"
  },
  "language_info": {
   "codemirror_mode": {
    "name": "ipython",
    "version": 3
   },
   "file_extension": ".py",
   "mimetype": "text/x-python",
   "name": "python",
   "nbconvert_exporter": "python",
   "pygments_lexer": "ipython3",
   "version": "3.8.8"
  }
 },
 "nbformat": 4,
 "nbformat_minor": 5
}
